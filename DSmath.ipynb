{
 "cells": [
  {
   "cell_type": "markdown",
   "id": "180aeeba",
   "metadata": {},
   "source": [
    "# 1. The weights of steers in a herd are distributed normally.  The variance is 40,000 and the mean steer weight is 1300 lbs.  Find the probability that the weight of a randomly selected steer is greater than 979 lbs. (Round your answer to 4 decimal places)\n"
   ]
  },
  {
   "cell_type": "code",
   "execution_count": 6,
   "id": "cfeab8b0",
   "metadata": {},
   "outputs": [],
   "source": [
    "import scipy.stats as stats"
   ]
  },
  {
   "cell_type": "code",
   "execution_count": 2,
   "id": "0442d488",
   "metadata": {},
   "outputs": [
    {
     "data": {
      "text/plain": [
       "-1.605"
      ]
     },
     "execution_count": 2,
     "metadata": {},
     "output_type": "execute_result"
    }
   ],
   "source": [
    "#FORMULA\n",
    "# z=(x−μ)/σ\n",
    "Z = (979-1300)/(40000)**(1/2)\n",
    "Z"
   ]
  },
  {
   "cell_type": "code",
   "execution_count": 4,
   "id": "5b7ddeac",
   "metadata": {},
   "outputs": [
    {
     "data": {
      "text/plain": [
       "-1.605"
      ]
     },
     "execution_count": 4,
     "metadata": {},
     "output_type": "execute_result"
    }
   ],
   "source": [
    "round(Z, 4)"
   ]
  },
  {
   "cell_type": "code",
   "execution_count": 7,
   "id": "419e1687",
   "metadata": {},
   "outputs": [
    {
     "data": {
      "text/plain": [
       "0.9458"
      ]
     },
     "execution_count": 7,
     "metadata": {},
     "output_type": "execute_result"
    }
   ],
   "source": [
    "round(stats.norm.sf(-1.605, loc=0, scale=1), 4)"
   ]
  },
  {
   "cell_type": "markdown",
   "id": "0c76076c",
   "metadata": {},
   "source": [
    "# 2. SVGA monitors manufactured by TSI Electronics have life spans that have a normal distribution with a variance of 1,960,000 and a mean life span of 11,000 hours.  If a SVGA monitor is selected at random, find the probability that the life span of the monitor will be more than 8340 hours. (Round your answer to 4 decimal places)"
   ]
  },
  {
   "cell_type": "code",
   "execution_count": 8,
   "id": "69d2929c",
   "metadata": {},
   "outputs": [
    {
     "data": {
      "text/plain": [
       "0.9713"
      ]
     },
     "execution_count": 8,
     "metadata": {},
     "output_type": "execute_result"
    }
   ],
   "source": [
    "import math\n",
    "import scipy.stats as stats\n",
    "round(stats.norm.sf(8340, loc=11000, scale=(1960000)**0.5), 4)"
   ]
  },
  {
   "cell_type": "markdown",
   "id": "2bbbac1f",
   "metadata": {},
   "source": [
    "# 3. Suppose the mean income of firms in the industry for a year is 80 million dollars with a standard deviation of 3 million dollars.  If incomes for the industry are distributed normally, what is the probability that a randomly selected firm will earn between 83 and 85 million dollars? (Round your answer to 4 decimal places)"
   ]
  },
  {
   "cell_type": "code",
   "execution_count": 9,
   "id": "1dc706b1",
   "metadata": {},
   "outputs": [
    {
     "data": {
      "text/plain": [
       "0.1109"
      ]
     },
     "execution_count": 9,
     "metadata": {},
     "output_type": "execute_result"
    }
   ],
   "source": [
    "import scipy.stats as stats\n",
    "round(stats.norm.cdf(85, loc=80, scale=3) - stats.norm.cdf(83, loc=80, scale=3), 4)"
   ]
  },
  {
   "cell_type": "markdown",
   "id": "3a5d5ebe",
   "metadata": {},
   "source": [
    "# 4. Suppose GRE Verbal scores are normally distributed with a mean of 456 and a standard deviation of 123.  A university plans to offer tutoring jobs to students whose scores are in the top 14%.  What is the minimum score required for the job offer?  Round your answer to the nearest whole number, if necessary."
   ]
  },
  {
   "cell_type": "code",
   "execution_count": 11,
   "id": "d5afdd2b",
   "metadata": {},
   "outputs": [
    {
     "data": {
      "text/plain": [
       "509.28"
      ]
     },
     "execution_count": 11,
     "metadata": {},
     "output_type": "execute_result"
    }
   ],
   "source": [
    "#x=μ+zσ\n",
    "465 + .36*123"
   ]
  },
  {
   "cell_type": "markdown",
   "id": "eab495fa",
   "metadata": {},
   "source": [
    "# 5. The lengths of nails produced in a factory are normally distributed with a mean of 6.13 centimeters and a standard deviation of 0.06 centimeters.  Find the two lengths that separate the top 7% and the bottom 7%.  These lengths could serve as limits used to identify which nails should be rejected.  Round your answer to the nearest hundredth, if necessary."
   ]
  },
  {
   "cell_type": "code",
   "execution_count": 12,
   "id": "1fb8c8f7",
   "metadata": {},
   "outputs": [
    {
     "data": {
      "text/plain": [
       "6.0412"
      ]
     },
     "execution_count": 12,
     "metadata": {},
     "output_type": "execute_result"
    }
   ],
   "source": [
    "# Lowest 7%\n",
    "6.13 - 1.48 * 0.06"
   ]
  },
  {
   "cell_type": "code",
   "execution_count": 13,
   "id": "1ac1ffde",
   "metadata": {},
   "outputs": [
    {
     "data": {
      "text/plain": [
       "6.2188"
      ]
     },
     "execution_count": 13,
     "metadata": {},
     "output_type": "execute_result"
    }
   ],
   "source": [
    "# Upper 7%\n",
    "6.13 + 1.48 * 0.06"
   ]
  },
  {
   "cell_type": "markdown",
   "id": "3f1c893c",
   "metadata": {},
   "source": [
    "# 6. An English professor assigns letter grades on a test according to the following scheme.\n",
    "\tA:  Top 13% of scores\n",
    "\tB:  Scores below the top 13% and above the bottom 55%\n",
    "\tC:  Scores below the top 45% and above the bottom 20%\n",
    "\tD:  Scores below the top 80% and above the bottom 9%\n",
    "\tF:  Bottom 9% of scores\n",
    "\tScores on the test are normally distributed with a mean of 78.8 and a standard deviation of 9.8.  Find the numerical limits for a C grade.  Round your answers to the nearest whole number, if necessary."
   ]
  },
  {
   "cell_type": "code",
   "execution_count": 14,
   "id": "6e42306c",
   "metadata": {},
   "outputs": [
    {
     "data": {
      "text/plain": [
       "71"
      ]
     },
     "execution_count": 14,
     "metadata": {},
     "output_type": "execute_result"
    }
   ],
   "source": [
    "# bottom limit\n",
    "round(78.8 - 0.84 * 9.8) "
   ]
  },
  {
   "cell_type": "code",
   "execution_count": 15,
   "id": "f0a668cf",
   "metadata": {},
   "outputs": [
    {
     "data": {
      "text/plain": [
       "80"
      ]
     },
     "execution_count": 15,
     "metadata": {},
     "output_type": "execute_result"
    }
   ],
   "source": [
    "# upper limit\n",
    "round(78.8 + 0.13 * 9.8)"
   ]
  },
  {
   "cell_type": "markdown",
   "id": "310972e3",
   "metadata": {},
   "source": [
    "# 7. Suppose ACT Composite scores are normally distributed with a mean of 21.2 and a standard deviation of 5.4.  A university plans to admit students whose scores are in the top 45%.  What is the minimum score required for admission?  Round your answer to the nearest tenth, if necessary."
   ]
  },
  {
   "cell_type": "code",
   "execution_count": 16,
   "id": "78970dfa",
   "metadata": {},
   "outputs": [
    {
     "data": {
      "text/plain": [
       "20.5214287269826"
      ]
     },
     "execution_count": 16,
     "metadata": {},
     "output_type": "execute_result"
    }
   ],
   "source": [
    "import scipy.stats as stats\n",
    "q = stats.norm.ppf(0.45, loc=21.2, scale=5.4)\n",
    "q"
   ]
  },
  {
   "cell_type": "markdown",
   "id": "c7b69436",
   "metadata": {},
   "source": [
    "# 8. Consider the probability that less than 11 out of 151 students will not graduate on time.  Assume the probability that a given student will not graduate on time is 9%.  Approximate the probability using the normal distribution. (Round your answer to 4 decimal places.)"
   ]
  },
  {
   "cell_type": "code",
   "execution_count": 18,
   "id": "5da701ff",
   "metadata": {},
   "outputs": [
    {
     "name": "stdout",
     "output_type": "stream",
     "text": [
      "0.19196700719387216\n"
     ]
    }
   ],
   "source": [
    "p6 = stats.binom.cdf(10, n=151, p=0.09)\n",
    "print(p6)"
   ]
  },
  {
   "cell_type": "markdown",
   "id": "54ad679b",
   "metadata": {},
   "source": [
    "# 9. The mean lifetime of a tire is 48 months with a standard deviation of 7.  If 147 tires are sampled, what is the probability that the mean of the sample would be greater than 48.83 months? (Round your answer to 4 decimal places)"
   ]
  },
  {
   "cell_type": "code",
   "execution_count": 19,
   "id": "162719e0",
   "metadata": {},
   "outputs": [
    {
     "data": {
      "text/plain": [
       "0.0753"
      ]
     },
     "execution_count": 19,
     "metadata": {},
     "output_type": "execute_result"
    }
   ],
   "source": [
    "import scipy.stats as stats\n",
    "round(1 - stats.norm.cdf(48.83, loc=48, scale=(7/math.sqrt(147))), 4)\n"
   ]
  },
  {
   "cell_type": "markdown",
   "id": "c3e4b32a",
   "metadata": {},
   "source": [
    "# 10. The quality control manager at a computer manufacturing company believes that the mean life of a computer is 91 months, with a standard deviation of 10.  If he is correct, what is the probability that the mean of a sample of 68 computers would be greater than 93.54 months? (Round your answer to 4 decimal places) "
   ]
  },
  {
   "cell_type": "code",
   "execution_count": 20,
   "id": "aa0f33d2",
   "metadata": {},
   "outputs": [
    {
     "data": {
      "text/plain": [
       "0.0181"
      ]
     },
     "execution_count": 20,
     "metadata": {},
     "output_type": "execute_result"
    }
   ],
   "source": [
    "round(1 - stats.norm.cdf(93.54, loc=91, scale=(10/math.sqrt(68))), 4)"
   ]
  },
  {
   "cell_type": "markdown",
   "id": "e7699167",
   "metadata": {},
   "source": [
    "# 11. A director of reservations believes that 7% of the ticketed passengers are no-shows.  If the director is right, what is the probability that the proportion of no-shows in a sample of 540 ticketed passengers would differ from the population proportion by less than 3%? (Round your answer to 4 decimal places)"
   ]
  },
  {
   "cell_type": "code",
   "execution_count": 21,
   "id": "3ee45e16",
   "metadata": {},
   "outputs": [
    {
     "data": {
      "text/plain": [
       "0.9937"
      ]
     },
     "execution_count": 21,
     "metadata": {},
     "output_type": "execute_result"
    }
   ],
   "source": [
    "import scipy.stats as stats\n",
    "z_value = (0.03*math.sqrt(540))/math.sqrt(0.07*0.93)\n",
    "p = stats.norm.cdf(z_value) - stats.norm.cdf(-z_value)\n",
    "round(p, 4)\n"
   ]
  },
  {
   "cell_type": "markdown",
   "id": "d6b631aa",
   "metadata": {},
   "source": [
    "# 12. A bottle maker believes that 23% of his bottles are defective.  If the bottle maker is accurate, what is the probability that the proportion of defective bottles in a sample of 602 bottles would differ from the population proportion by greater than 4%? (Round your answer to 4 decimal places)"
   ]
  },
  {
   "cell_type": "code",
   "execution_count": 22,
   "id": "89236aea",
   "metadata": {},
   "outputs": [
    {
     "data": {
      "text/plain": [
       "0.0197"
      ]
     },
     "execution_count": 22,
     "metadata": {},
     "output_type": "execute_result"
    }
   ],
   "source": [
    "z_value = (0.04*math.sqrt(602))/math.sqrt(0.23*0.77)\n",
    "p = 1 - (stats.norm.cdf(z_value) - stats.norm.cdf(-z_value))\n",
    "round(p, 4)"
   ]
  },
  {
   "cell_type": "markdown",
   "id": "fd3c0fbc",
   "metadata": {},
   "source": [
    "# 13. A research company desires to know the mean consumption of beef per week among males over age 48.  Suppose a sample of size 208 is drawn with .  Assume  .  Construct the 80% confidence interval for the mean number of lb. of beef per week among males over 48. (Round your answers to 1 decimal place) \n",
    "Upper Bound:\n",
    "Lower Bound:"
   ]
  },
  {
   "cell_type": "code",
   "execution_count": 30,
   "id": "fc89a2d9",
   "metadata": {},
   "outputs": [],
   "source": [
    "import scipy.stats as stats\n",
    "import math\n",
    "z = abs(stats.t.ppf(0.10, 207)) # 2-tailed, so 10% each side\n",
    "lower = round(3.9 - z*math.sqrt(0.8),1)\n",
    "upper = round(3.9 + z*math.sqrt(0.8),1)"
   ]
  },
  {
   "cell_type": "code",
   "execution_count": 31,
   "id": "df6e2fec",
   "metadata": {},
   "outputs": [
    {
     "data": {
      "text/plain": [
       "2.8"
      ]
     },
     "execution_count": 31,
     "metadata": {},
     "output_type": "execute_result"
    }
   ],
   "source": [
    "lower"
   ]
  },
  {
   "cell_type": "code",
   "execution_count": 29,
   "id": "14f39564",
   "metadata": {},
   "outputs": [
    {
     "data": {
      "text/plain": [
       "5.0"
      ]
     },
     "execution_count": 29,
     "metadata": {},
     "output_type": "execute_result"
    }
   ],
   "source": [
    "upper"
   ]
  },
  {
   "cell_type": "markdown",
   "id": "79fd0cdc",
   "metadata": {},
   "source": [
    "# 14. An economist wants to estimate the mean per capita income (in thousands of dollars) in a major city in California.  Suppose a sample of size 7472 is drawn with .  Assume  .  Construct the 98% confidence interval for the mean per capita income. (Round your answers to 1 decimal place) \n",
    "Upper Bound:\n",
    "Lower Bound:"
   ]
  },
  {
   "cell_type": "code",
   "execution_count": 32,
   "id": "1899ff7e",
   "metadata": {},
   "outputs": [],
   "source": [
    "import scipy.stats as stats\n",
    "import math\n",
    "z = abs(stats.t.ppf(0.01, 7471))\n",
    "lower = round(16.6 - z*math.sqrt(11),1)\n",
    "upper = round(16.6 + z*math.sqrt(11),1)"
   ]
  },
  {
   "cell_type": "code",
   "execution_count": 34,
   "id": "c139f178",
   "metadata": {},
   "outputs": [
    {
     "data": {
      "text/plain": [
       "24.3"
      ]
     },
     "execution_count": 34,
     "metadata": {},
     "output_type": "execute_result"
    }
   ],
   "source": [
    "upper"
   ]
  },
  {
   "cell_type": "code",
   "execution_count": 33,
   "id": "9ce7094f",
   "metadata": {},
   "outputs": [
    {
     "data": {
      "text/plain": [
       "8.9"
      ]
     },
     "execution_count": 33,
     "metadata": {},
     "output_type": "execute_result"
    }
   ],
   "source": [
    "lower"
   ]
  },
  {
   "cell_type": "markdown",
   "id": "42ca13e5",
   "metadata": {},
   "source": [
    "# 15. Find the value of t such that 0.05 of the area under the curve is to the left of t.  Assume the degrees of freedom equals 26.\n",
    "\n",
    "Step 1. Choose the picture which best describes the problem.\n",
    "Step 2. Write your answer below. "
   ]
  },
  {
   "cell_type": "code",
   "execution_count": 36,
   "id": "1d925f29",
   "metadata": {},
   "outputs": [
    {
     "data": {
      "text/plain": [
       "-1.7056179197592731"
      ]
     },
     "execution_count": 36,
     "metadata": {},
     "output_type": "execute_result"
    }
   ],
   "source": [
    "# The upper-right graph describes this problem visually.\n",
    "t = stats.t.ppf(0.05, 26)\n",
    "t"
   ]
  },
  {
   "cell_type": "markdown",
   "id": "860cd78e",
   "metadata": {},
   "source": [
    "# 16. The following measurements ( in picocuries per liter ) were recorded by a set of helium gas detectors installed in a laboratory facility:  \n",
    "383.6, 347.1, 371.9, 347.6, 325.8, 337 Using these measurements, construct a 90% confidence interval for the mean level of helium gas present in the facility.  Assume the population is normally distributed.  \n",
    "Step 1. Calculate the sample mean for the given sample data. (Round answer to 2 decimal places) \n",
    "Step 2. Calculate the sample standard deviation for the given sample data. (Round answer to 2 decimal places) \n",
    "Step 3. Find the critical value that should be used in constructing the confidence interval. (Round answer to 3 decimal places) \n",
    "Step 4. Construct the 90% confidence interval. (Round answer to 2 decimal places)\n",
    "Upper Bound:\n",
    "Lower Bound:"
   ]
  },
  {
   "cell_type": "code",
   "execution_count": 41,
   "id": "ab5f06a3",
   "metadata": {},
   "outputs": [
    {
     "data": {
      "text/plain": [
       "352.17"
      ]
     },
     "execution_count": 41,
     "metadata": {},
     "output_type": "execute_result"
    }
   ],
   "source": [
    "# Calculate the sample mean for the given sample data. (Round answer to 2 decimal places)\n",
    "helium = (383.6, 347.1, 371.9, 347.6, 325.8, 337)\n",
    "m1 = sum(helium)/len(helium)\n",
    "m1\n",
    "round(m1,2)"
   ]
  },
  {
   "cell_type": "code",
   "execution_count": 49,
   "id": "355d1d67",
   "metadata": {},
   "outputs": [
    {
     "data": {
      "text/plain": [
       "19.79"
      ]
     },
     "execution_count": 49,
     "metadata": {},
     "output_type": "execute_result"
    }
   ],
   "source": [
    "# Calculate the sample standard deviation for the given sample data. (Round answer to 2 decimal places)\n",
    "import numpy as np\n",
    "s = np.std(helium)\n",
    "round(s,2)"
   ]
  },
  {
   "cell_type": "code",
   "execution_count": 52,
   "id": "3fe49f40",
   "metadata": {},
   "outputs": [
    {
     "data": {
      "text/plain": [
       "-2.015"
      ]
     },
     "execution_count": 52,
     "metadata": {},
     "output_type": "execute_result"
    }
   ],
   "source": [
    "#Find the critical value that should be used in constructing the confidence interval. (Round answer to 3 decimal places)\n",
    "from scipy.stats import t\n",
    "critical_1 = t.ppf(0.1/2, 6-1)\n",
    "round(critical_1, 3)\n"
   ]
  },
  {
   "cell_type": "code",
   "execution_count": 53,
   "id": "ff73dd42",
   "metadata": {},
   "outputs": [
    {
     "name": "stdout",
     "output_type": "stream",
     "text": [
      "13.062788391691033\n"
     ]
    }
   ],
   "source": [
    "from scipy.stats import t\n",
    "import numpy as np\n",
    "error = t.ppf(0.90, df=6-1)*21.68/np.sqrt(6)\n",
    "print(error)"
   ]
  },
  {
   "cell_type": "code",
   "execution_count": 54,
   "id": "7209e636",
   "metadata": {},
   "outputs": [
    {
     "data": {
      "text/plain": [
       "365.23278839169103"
      ]
     },
     "execution_count": 54,
     "metadata": {},
     "output_type": "execute_result"
    }
   ],
   "source": [
    "#Upper\n",
    "352.17 + error"
   ]
  },
  {
   "cell_type": "code",
   "execution_count": 55,
   "id": "8b9bab10",
   "metadata": {},
   "outputs": [
    {
     "data": {
      "text/plain": [
       "339.107211608309"
      ]
     },
     "execution_count": 55,
     "metadata": {},
     "output_type": "execute_result"
    }
   ],
   "source": [
    "#Lower\n",
    "352.17- error"
   ]
  },
  {
   "cell_type": "markdown",
   "id": "cb46b2c8",
   "metadata": {},
   "source": [
    "# 17. A random sample of 16 fields of spring wheat has a mean yield of 46.4 bushels per acre and standard deviation of 2.45 bushels per acre.  Determine the 80% confidence interval for the true mean yield.  Assume the population is normally distributed.  \n",
    "Step 1. Find the critical value that should be used in constructing the confidence interval. (Round answer to 3 decimal places) \n",
    "Step 2. Construct the 80% confidence interval. (Round answer to 1 decimal place)\n",
    "Upper Bound:\n",
    "Lower Bound:"
   ]
  },
  {
   "cell_type": "code",
   "execution_count": 57,
   "id": "d271fc03",
   "metadata": {},
   "outputs": [
    {
     "name": "stdout",
     "output_type": "stream",
     "text": [
      "1.341\n"
     ]
    }
   ],
   "source": [
    "# Find the critical value that should be used in constructing the confidence interval. (Round answer to 3 decimal places)\n",
    "from scipy.stats import t\n",
    "import numpy as np\n",
    "t = abs(round(t.ppf(0.10, df=15), 3))\n",
    "print(t)"
   ]
  },
  {
   "cell_type": "code",
   "execution_count": 64,
   "id": "d10a216b",
   "metadata": {},
   "outputs": [
    {
     "name": "stdout",
     "output_type": "stream",
     "text": [
      "0.5305750460819079\n"
     ]
    }
   ],
   "source": [
    "from scipy.stats import t\n",
    "import numpy as np\n",
    "error = t.ppf(0.80, df=16-1)*2.45/np.sqrt(16)\n",
    "print(error)"
   ]
  },
  {
   "cell_type": "code",
   "execution_count": 74,
   "id": "fa5377fe",
   "metadata": {},
   "outputs": [
    {
     "name": "stdout",
     "output_type": "stream",
     "text": [
      "45.9\n",
      "46.9\n"
     ]
    }
   ],
   "source": [
    "lower = 46.4 + error\n",
    "upper = 46.4 - error\n",
    "upper = round(upper,1)\n",
    "lower = round(lower,1)\n",
    "print(upper)\n",
    "print(lower)"
   ]
  },
  {
   "cell_type": "markdown",
   "id": "78e0b5fe",
   "metadata": {},
   "source": [
    "# 18. A toy manufacturer wants to know how many new toys children buy each year.  She thinks the mean is 8 toys per year.  Assume a previous study found the standard deviation to be 1.9.  How large of a sample would be required in order to estimate the mean number of toys bought per child at the 99% confidence level with an error of at most 0.13 toys? (Round your answer up to the next integer)"
   ]
  },
  {
   "cell_type": "code",
   "execution_count": 81,
   "id": "41d751a0",
   "metadata": {},
   "outputs": [
    {
     "name": "stdout",
     "output_type": "stream",
     "text": [
      "1422\n"
     ]
    }
   ],
   "source": [
    "import numpy as np\n",
    "\n",
    "sample_size = (2.58*1.9/(0.13))**2\n",
    "sample_size = round(sample_size,0)\n",
    "print(int(sample_size))"
   ]
  },
  {
   "cell_type": "markdown",
   "id": "5ad06408",
   "metadata": {},
   "source": [
    "# 19. A research scientist wants to know how many times per hour a certain strand of bacteria reproduces.  He believes that the mean is 12.6.  Assume the variance is known to be 3.61.  How large of a sample would be required in order to estimate the mean number of reproductions per hour at the 95% confidence level with an error of at most 0.19 reproductions? (Round your answer up to the next integer)"
   ]
  },
  {
   "cell_type": "code",
   "execution_count": 83,
   "id": "3c59fdfc",
   "metadata": {},
   "outputs": [
    {
     "name": "stdout",
     "output_type": "stream",
     "text": [
      "384\n"
     ]
    }
   ],
   "source": [
    "import numpy as np\n",
    "import math\n",
    "sd = math.sqrt(3.61)\n",
    "sample_size = (1.96*sd/(0.19))**2\n",
    "sample_size = round(sample_size,0)\n",
    "print(int(sample_size))"
   ]
  },
  {
   "cell_type": "markdown",
   "id": "d209f705",
   "metadata": {},
   "source": [
    "# 20. The state education commission wants to estimate the fraction of tenth grade students that have reading skills at or below the eighth grade level.\n",
    "Step 1. Suppose a sample of 2089 tenth graders is drawn. Of the students sampled, 1734 read above the eighth grade level.  Using the data, estimate the proportion of tenth graders reading at or below the eighth grade level. (Write your answer as a fraction or a decimal number rounded to 3 decimal places) \n",
    "Step 2. Suppose a sample of 2089 tenth graders is drawn.  Of the students sampled, 1734 read above the eighth grade level.  Using the data, construct the 98% confidence interval for the population proportion of tenth graders reading at or below the eighth grade level. (Round your answers to 3 decimal places)\n",
    "Upper Bound:\n",
    "Lower Bound:"
   ]
  },
  {
   "cell_type": "code",
   "execution_count": 85,
   "id": "987882e0",
   "metadata": {},
   "outputs": [
    {
     "data": {
      "text/plain": [
       "0.17"
      ]
     },
     "execution_count": 85,
     "metadata": {},
     "output_type": "execute_result"
    }
   ],
   "source": [
    "proportion = 1-(1734/2089)\n",
    "proportion = round(proportion,3)\n",
    "proportion"
   ]
  },
  {
   "cell_type": "code",
   "execution_count": 89,
   "id": "7d14e4a4",
   "metadata": {},
   "outputs": [
    {
     "data": {
      "text/plain": [
       "0.1"
      ]
     },
     "execution_count": 89,
     "metadata": {},
     "output_type": "execute_result"
    }
   ],
   "source": [
    "from scipy import stats\n",
    "import numpy as np\n",
    "\n",
    "df = 2089-1\n",
    "alpha = 0.05\n",
    "\n",
    "t_critical = stats.t.ppf(1 - alpha/2, df)\n",
    "error = t_critical * 2.33 / np.sqrt(2089)\n",
    "error = round(error,3)\n",
    "error"
   ]
  },
  {
   "cell_type": "code",
   "execution_count": 94,
   "id": "42955219",
   "metadata": {},
   "outputs": [
    {
     "data": {
      "text/plain": [
       "0.07"
      ]
     },
     "execution_count": 94,
     "metadata": {},
     "output_type": "execute_result"
    }
   ],
   "source": [
    "# upper\n",
    "upper1 = proportion - error\n",
    "lower1 = proportion + error\n",
    "upper1"
   ]
  },
  {
   "cell_type": "code",
   "execution_count": 95,
   "id": "31826bab",
   "metadata": {},
   "outputs": [
    {
     "data": {
      "text/plain": [
       "0.27"
      ]
     },
     "execution_count": 95,
     "metadata": {},
     "output_type": "execute_result"
    }
   ],
   "source": [
    "#lower\n",
    "lower1"
   ]
  },
  {
   "cell_type": "markdown",
   "id": "cd5fa979",
   "metadata": {},
   "source": [
    "# 21. An environmentalist wants to find out the fraction of oil tankers that have spills each month.\n",
    "\n",
    "Step 1. Suppose a sample of 474 tankers is drawn.  Of these ships, 156 had spills.  Using the data, estimate the proportion of oil tankers that had spills. (Write your answer as a fraction or a decimal number rounded to 3 decimal places) \n",
    "Step 2. Suppose a sample of 474 tankers is drawn.  Of these ships, 156 had spills.  Using the data, construct the 95% confidence interval for the population proportion of oil tankers that have spills each month. (Round your answers to 3 decimal places)\n",
    "Upper Bound:\n",
    "Lower Bound:"
   ]
  },
  {
   "cell_type": "code",
   "execution_count": 101,
   "id": "f742474e",
   "metadata": {},
   "outputs": [
    {
     "data": {
      "text/plain": [
       "0.329"
      ]
     },
     "execution_count": 101,
     "metadata": {},
     "output_type": "execute_result"
    }
   ],
   "source": [
    "proportion_2 = 156/474\n",
    "proportion_2 = round(proportion_2,3)\n",
    "proportion_2"
   ]
  },
  {
   "cell_type": "code",
   "execution_count": 102,
   "id": "e1f3c894",
   "metadata": {},
   "outputs": [
    {
     "data": {
      "text/plain": [
       "-0.04"
      ]
     },
     "execution_count": 102,
     "metadata": {},
     "output_type": "execute_result"
    }
   ],
   "source": [
    "from scipy import stats\n",
    "import numpy as np\n",
    "\n",
    "df = 474-1\n",
    "alpha = 0.67\n",
    "\n",
    "t_critical = stats.t.ppf(1 - alpha, df)\n",
    "error_1 = t_critical * 1.96 / np.sqrt(474)\n",
    "error_1 = round(error_1,3)\n",
    "error_1"
   ]
  },
  {
   "cell_type": "code",
   "execution_count": 106,
   "id": "953eac76",
   "metadata": {},
   "outputs": [],
   "source": [
    "lower = proportion_2 + error_1\n",
    "upper = proportion_2 - error_1"
   ]
  },
  {
   "cell_type": "code",
   "execution_count": 107,
   "id": "4b72bcbd",
   "metadata": {},
   "outputs": [
    {
     "data": {
      "text/plain": [
       "0.369"
      ]
     },
     "execution_count": 107,
     "metadata": {},
     "output_type": "execute_result"
    }
   ],
   "source": [
    "upper"
   ]
  },
  {
   "cell_type": "code",
   "execution_count": 108,
   "id": "75c529f6",
   "metadata": {},
   "outputs": [
    {
     "data": {
      "text/plain": [
       "0.28900000000000003"
      ]
     },
     "execution_count": 108,
     "metadata": {},
     "output_type": "execute_result"
    }
   ],
   "source": [
    "lower"
   ]
  }
 ],
 "metadata": {
  "kernelspec": {
   "display_name": "Python 3 (ipykernel)",
   "language": "python",
   "name": "python3"
  },
  "language_info": {
   "codemirror_mode": {
    "name": "ipython",
    "version": 3
   },
   "file_extension": ".py",
   "mimetype": "text/x-python",
   "name": "python",
   "nbconvert_exporter": "python",
   "pygments_lexer": "ipython3",
   "version": "3.9.13"
  }
 },
 "nbformat": 4,
 "nbformat_minor": 5
}
