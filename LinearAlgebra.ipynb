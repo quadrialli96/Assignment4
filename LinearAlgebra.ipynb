{
 "cells": [
  {
   "cell_type": "code",
   "execution_count": null,
   "id": "e1090352",
   "metadata": {},
   "outputs": [],
   "source": [
    "#1.Write a Python program to compute the eigenvalues and right eigenvectors of a given square array."
   ]
  },
  {
   "cell_type": "code",
   "execution_count": 4,
   "id": "b9508c3c",
   "metadata": {},
   "outputs": [
    {
     "name": "stdout",
     "output_type": "stream",
     "text": [
      "[[5 9 8]\n",
      " [7 4 5]\n",
      " [6 2 3]]\n",
      "[16.51978461 -4.36731846 -0.15246615]\n",
      "[[-0.72064652 -0.77477757 -0.22326377]\n",
      " [-0.56396831  0.32361316 -0.57307478]\n",
      " [-0.40324723  0.54313372  0.78850401]]\n"
     ]
    }
   ],
   "source": [
    "# eigendecomposition\n",
    "from numpy import array\n",
    "from numpy.linalg import eig\n",
    "#define matrix\n",
    "A = array([\n",
    "    [5, 9, 8],\n",
    "    [7, 4, 5],\n",
    "    [6, 2, 3]])\n",
    "print(A)\n",
    "#computing eigvalues, eigvectors\n",
    "values, vectors = eig(A)\n",
    "print(values)\n",
    "print(vectors)\n"
   ]
  },
  {
   "cell_type": "code",
   "execution_count": 5,
   "id": "7e15c29b",
   "metadata": {},
   "outputs": [
    {
     "name": "stdout",
     "output_type": "stream",
     "text": [
      "[-11.90492531  -9.31663508  -6.66155746]\n",
      "[-11.90492531  -9.31663508  -6.66155746]\n"
     ]
    }
   ],
   "source": [
    "#confirming first eigenvector\n",
    "B = A.dot(vectors[:, 0])\n",
    "print(B)\n",
    "C = vectors[:, 0] * values[0]\n",
    "print(C)"
   ]
  },
  {
   "cell_type": "code",
   "execution_count": 6,
   "id": "2dd42949",
   "metadata": {},
   "outputs": [],
   "source": [
    "#2. Write a Python program to compute the factor of a given array by Singular Value Decomposition"
   ]
  },
  {
   "cell_type": "code",
   "execution_count": 11,
   "id": "854b0f67",
   "metadata": {},
   "outputs": [
    {
     "name": "stdout",
     "output_type": "stream",
     "text": [
      "[[5 7]\n",
      " [2 4]\n",
      " [3 8]]\n",
      "[[-0.66479374  0.72063053  0.19682713]\n",
      " [-0.34859945 -0.06623    -0.93492888]\n",
      " [-0.66070243 -0.6901487   0.2952407 ]]\n",
      "[12.82533418  1.58455142]\n",
      "[[-0.46807941 -0.8836864 ]\n",
      " [ 0.8836864  -0.46807941]]\n"
     ]
    }
   ],
   "source": [
    "# singular-value decomposition\n",
    "import scipy\n",
    "from numpy import array\n",
    "from scipy.linalg import svd\n",
    "# define a matrix\n",
    "A = array([\n",
    "[5, 7],\n",
    "[2, 4],\n",
    "[3, 8]])\n",
    "print(A)\n",
    "# factorize\n",
    "U, s, V = svd(A)\n",
    "print(U)\n",
    "print(s)\n",
    "print(V)"
   ]
  },
  {
   "cell_type": "code",
   "execution_count": 12,
   "id": "ede28326",
   "metadata": {},
   "outputs": [
    {
     "name": "stdout",
     "output_type": "stream",
     "text": [
      "[[5 7]\n",
      " [2 4]\n",
      " [3 8]]\n",
      "[[5. 7.]\n",
      " [2. 4.]\n",
      " [3. 8.]]\n"
     ]
    }
   ],
   "source": [
    "# Reconstructing the matrix to double check.\n",
    "from numpy import array\n",
    "from numpy import diag\n",
    "from numpy import zeros\n",
    "from scipy.linalg import svd\n",
    "# define matrix\n",
    "A = array([\n",
    "[5, 7],\n",
    "[2, 4],\n",
    "[3, 8]])\n",
    "print(A)\n",
    "# factorize\n",
    "U, s, V = svd(A)\n",
    "# create m x n Sigma matrix\n",
    "Sigma = zeros((A.shape[0], A.shape[1]))\n",
    "# populate Sigma with n x n diagonal matrix\n",
    "Sigma[:A.shape[1], :A.shape[1]] = diag(s)\n",
    "# reconstruct matrix\n",
    "B = U.dot(Sigma.dot(V))\n",
    "print(B)"
   ]
  },
  {
   "cell_type": "code",
   "execution_count": 13,
   "id": "1da83a78",
   "metadata": {},
   "outputs": [],
   "source": [
    "#3. Write a Python program to compute the determinant of an array."
   ]
  },
  {
   "cell_type": "code",
   "execution_count": 15,
   "id": "ca872758",
   "metadata": {},
   "outputs": [
    {
     "data": {
      "text/plain": [
       "25.00000000000004"
      ]
     },
     "execution_count": 15,
     "metadata": {},
     "output_type": "execute_result"
    }
   ],
   "source": [
    "import numpy as np\n",
    "from numpy.linalg import det\n",
    "A = np.array([\n",
    "    [3, 6, 7],\n",
    "    [5, 3, 2],\n",
    "    [2, 8, 9]])\n",
    "#determinant of array\n",
    "B = det(A)\n",
    "B"
   ]
  },
  {
   "cell_type": "code",
   "execution_count": null,
   "id": "e2123e55",
   "metadata": {},
   "outputs": [],
   "source": []
  }
 ],
 "metadata": {
  "kernelspec": {
   "display_name": "Python 3 (ipykernel)",
   "language": "python",
   "name": "python3"
  },
  "language_info": {
   "codemirror_mode": {
    "name": "ipython",
    "version": 3
   },
   "file_extension": ".py",
   "mimetype": "text/x-python",
   "name": "python",
   "nbconvert_exporter": "python",
   "pygments_lexer": "ipython3",
   "version": "3.9.13"
  }
 },
 "nbformat": 4,
 "nbformat_minor": 5
}
